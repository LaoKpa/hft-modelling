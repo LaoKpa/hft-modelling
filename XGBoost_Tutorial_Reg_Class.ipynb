{
  "nbformat": 4,
  "nbformat_minor": 0,
  "metadata": {
    "colab": {
      "name": "XGBoost Tutorial Reg/Class",
      "provenance": [],
      "authorship_tag": "ABX9TyP+v5ePHx0b22FU7BZoI+zO",
      "include_colab_link": true
    },
    "kernelspec": {
      "name": "python3",
      "display_name": "Python 3"
    }
  },
  "cells": [
    {
      "cell_type": "markdown",
      "metadata": {
        "id": "view-in-github",
        "colab_type": "text"
      },
      "source": [
        "<a href=\"https://colab.research.google.com/github/sammfyu/hft-modelling/blob/master/XGBoost_Tutorial_Reg_Class.ipynb\" target=\"_parent\"><img src=\"https://colab.research.google.com/assets/colab-badge.svg\" alt=\"Open In Colab\"/></a>"
      ]
    },
    {
      "cell_type": "markdown",
      "metadata": {
        "id": "Xd_FoqALygse",
        "colab_type": "text"
      },
      "source": [
        "# Regresson Exercise\n",
        "\n",
        "\n",
        "\n"
      ]
    },
    {
      "cell_type": "code",
      "metadata": {
        "id": "fJcyKSLUsfRE",
        "colab_type": "code",
        "colab": {}
      },
      "source": [
        "import xgboost as xgb\n",
        "import pandas as pd\n",
        "import numpy as np\n",
        "import matplotlib\n",
        "train_rows = 100\n",
        "test_rows = 20\n",
        "data = pd.DataFrame(np.random.rand(train_rows,5), columns=['a', 'b', 'c','d','e'])\n",
        "label = pd.DataFrame(np.random.randint(10, size=train_rows))\n",
        "test_data = pd.DataFrame(np.random.rand(test_rows,5),columns=['a', 'b', 'c','d','e'])\n",
        "test_label = pd.DataFrame(np.random.randint(10, size=test_rows))"
      ],
      "execution_count": 0,
      "outputs": []
    },
    {
      "cell_type": "code",
      "metadata": {
        "id": "YLtFhWE4iyso",
        "colab_type": "code",
        "colab": {
          "base_uri": "https://localhost:8080/",
          "height": 145
        },
        "outputId": "f3fa12ad-c53a-4cd4-9674-f1eab60ae216"
      },
      "source": [
        "#Let's try with Scikit API\n",
        "from xgboost.sklearn import XGBRegressor\n",
        "from sklearn.model_selection import cross_val_score\n",
        "from sklearn.metrics import mean_squared_error, accuracy_score\n",
        "\n",
        "model = XGBRegressor(objective ='reg:squarederror')\n",
        "eval_set = [(data, label), (test_data, test_label)]\n",
        "model.fit(data, label, eval_metric ='rmse',eval_set = eval_set,verbose = False  )\n"
      ],
      "execution_count": 122,
      "outputs": [
        {
          "output_type": "execute_result",
          "data": {
            "text/plain": [
              "XGBRegressor(base_score=0.5, booster='gbtree', colsample_bylevel=1,\n",
              "             colsample_bynode=1, colsample_bytree=1, gamma=0,\n",
              "             importance_type='gain', learning_rate=0.1, max_delta_step=0,\n",
              "             max_depth=3, min_child_weight=1, missing=None, n_estimators=100,\n",
              "             n_jobs=1, nthread=None, objective='reg:squarederror',\n",
              "             random_state=0, reg_alpha=0, reg_lambda=1, scale_pos_weight=1,\n",
              "             seed=None, silent=None, subsample=1, verbosity=1)"
            ]
          },
          "metadata": {
            "tags": []
          },
          "execution_count": 122
        }
      ]
    },
    {
      "cell_type": "code",
      "metadata": {
        "id": "lTpQ6kYskmgY",
        "colab_type": "code",
        "colab": {
          "base_uri": "https://localhost:8080/",
          "height": 54
        },
        "outputId": "af067961-5879-442b-b242-401a52cb35ec"
      },
      "source": [
        "ypred = model.predict(data)\n",
        "mse = mean_squared_error(label,ypred)\n",
        "print(\"MSE: %.6f\" % mse)\n",
        "print(\"RMSE: %.6f\" % np.sqrt(mse)) "
      ],
      "execution_count": 123,
      "outputs": [
        {
          "output_type": "stream",
          "text": [
            "MSE: 0.636207\n",
            "RMSE: 0.797626\n"
          ],
          "name": "stdout"
        }
      ]
    },
    {
      "cell_type": "code",
      "metadata": {
        "id": "t69DRtCFoOnr",
        "colab_type": "code",
        "colab": {
          "base_uri": "https://localhost:8080/",
          "height": 54
        },
        "outputId": "57beba21-0cd8-4a6f-aa48-f3bda842eb68"
      },
      "source": [
        "ypred1 = model.predict(test_data)\n",
        "mse = mean_squared_error(test_label,ypred1)\n",
        "print(\"MSE: %.6f\" % mse)\n",
        "print(\"RMSE: %.6f\" % np.sqrt(mse)) "
      ],
      "execution_count": 124,
      "outputs": [
        {
          "output_type": "stream",
          "text": [
            "MSE: 14.170962\n",
            "RMSE: 3.764434\n"
          ],
          "name": "stdout"
        }
      ]
    },
    {
      "cell_type": "code",
      "metadata": {
        "id": "3DueMkrGk_sb",
        "colab_type": "code",
        "colab": {
          "base_uri": "https://localhost:8080/",
          "height": 464
        },
        "outputId": "de2aee58-30f2-4d2f-e0a3-610590a6882f"
      },
      "source": [
        "#To merge 2 column into pandas dataframe\n",
        "table = pd.DataFrame(pd.np.column_stack([label,ypred]))\n",
        "table\n",
        "\n",
        "#Other way : \n",
        "#df2 = pd.DataFrame(ypred)\n",
        "#pd.concat([label,df2],axis = 1)"
      ],
      "execution_count": 125,
      "outputs": [
        {
          "output_type": "stream",
          "text": [
            "/usr/local/lib/python3.6/dist-packages/ipykernel_launcher.py:1: FutureWarning: The pandas.np module is deprecated and will be removed from pandas in a future version. Import numpy directly instead\n",
            "  \"\"\"Entry point for launching an IPython kernel.\n"
          ],
          "name": "stderr"
        },
        {
          "output_type": "execute_result",
          "data": {
            "text/html": [
              "<div>\n",
              "<style scoped>\n",
              "    .dataframe tbody tr th:only-of-type {\n",
              "        vertical-align: middle;\n",
              "    }\n",
              "\n",
              "    .dataframe tbody tr th {\n",
              "        vertical-align: top;\n",
              "    }\n",
              "\n",
              "    .dataframe thead th {\n",
              "        text-align: right;\n",
              "    }\n",
              "</style>\n",
              "<table border=\"1\" class=\"dataframe\">\n",
              "  <thead>\n",
              "    <tr style=\"text-align: right;\">\n",
              "      <th></th>\n",
              "      <th>0</th>\n",
              "      <th>1</th>\n",
              "    </tr>\n",
              "  </thead>\n",
              "  <tbody>\n",
              "    <tr>\n",
              "      <th>0</th>\n",
              "      <td>3.0</td>\n",
              "      <td>3.275341</td>\n",
              "    </tr>\n",
              "    <tr>\n",
              "      <th>1</th>\n",
              "      <td>9.0</td>\n",
              "      <td>6.749049</td>\n",
              "    </tr>\n",
              "    <tr>\n",
              "      <th>2</th>\n",
              "      <td>6.0</td>\n",
              "      <td>5.862212</td>\n",
              "    </tr>\n",
              "    <tr>\n",
              "      <th>3</th>\n",
              "      <td>3.0</td>\n",
              "      <td>3.595626</td>\n",
              "    </tr>\n",
              "    <tr>\n",
              "      <th>4</th>\n",
              "      <td>4.0</td>\n",
              "      <td>3.543866</td>\n",
              "    </tr>\n",
              "    <tr>\n",
              "      <th>...</th>\n",
              "      <td>...</td>\n",
              "      <td>...</td>\n",
              "    </tr>\n",
              "    <tr>\n",
              "      <th>95</th>\n",
              "      <td>7.0</td>\n",
              "      <td>6.884387</td>\n",
              "    </tr>\n",
              "    <tr>\n",
              "      <th>96</th>\n",
              "      <td>8.0</td>\n",
              "      <td>7.000330</td>\n",
              "    </tr>\n",
              "    <tr>\n",
              "      <th>97</th>\n",
              "      <td>3.0</td>\n",
              "      <td>3.494333</td>\n",
              "    </tr>\n",
              "    <tr>\n",
              "      <th>98</th>\n",
              "      <td>7.0</td>\n",
              "      <td>6.253826</td>\n",
              "    </tr>\n",
              "    <tr>\n",
              "      <th>99</th>\n",
              "      <td>6.0</td>\n",
              "      <td>5.782938</td>\n",
              "    </tr>\n",
              "  </tbody>\n",
              "</table>\n",
              "<p>100 rows × 2 columns</p>\n",
              "</div>"
            ],
            "text/plain": [
              "      0         1\n",
              "0   3.0  3.275341\n",
              "1   9.0  6.749049\n",
              "2   6.0  5.862212\n",
              "3   3.0  3.595626\n",
              "4   4.0  3.543866\n",
              "..  ...       ...\n",
              "95  7.0  6.884387\n",
              "96  8.0  7.000330\n",
              "97  3.0  3.494333\n",
              "98  7.0  6.253826\n",
              "99  6.0  5.782938\n",
              "\n",
              "[100 rows x 2 columns]"
            ]
          },
          "metadata": {
            "tags": []
          },
          "execution_count": 125
        }
      ]
    },
    {
      "cell_type": "code",
      "metadata": {
        "id": "a4-G7jKPo9sR",
        "colab_type": "code",
        "colab": {
          "base_uri": "https://localhost:8080/",
          "height": 705
        },
        "outputId": "d8414089-f847-45ba-9f57-419b817f2cba"
      },
      "source": [
        "table2 = pd.DataFrame(pd.np.column_stack([test_label,ypred1]))\n",
        "table2\n",
        "\n",
        "#accuracy = accuracy_score(test_label, ypred1)\n",
        "#print(\"Accuracy: %.2f%%\" % (accuracy * 100.0))"
      ],
      "execution_count": 126,
      "outputs": [
        {
          "output_type": "stream",
          "text": [
            "/usr/local/lib/python3.6/dist-packages/ipykernel_launcher.py:1: FutureWarning: The pandas.np module is deprecated and will be removed from pandas in a future version. Import numpy directly instead\n",
            "  \"\"\"Entry point for launching an IPython kernel.\n"
          ],
          "name": "stderr"
        },
        {
          "output_type": "execute_result",
          "data": {
            "text/html": [
              "<div>\n",
              "<style scoped>\n",
              "    .dataframe tbody tr th:only-of-type {\n",
              "        vertical-align: middle;\n",
              "    }\n",
              "\n",
              "    .dataframe tbody tr th {\n",
              "        vertical-align: top;\n",
              "    }\n",
              "\n",
              "    .dataframe thead th {\n",
              "        text-align: right;\n",
              "    }\n",
              "</style>\n",
              "<table border=\"1\" class=\"dataframe\">\n",
              "  <thead>\n",
              "    <tr style=\"text-align: right;\">\n",
              "      <th></th>\n",
              "      <th>0</th>\n",
              "      <th>1</th>\n",
              "    </tr>\n",
              "  </thead>\n",
              "  <tbody>\n",
              "    <tr>\n",
              "      <th>0</th>\n",
              "      <td>1.0</td>\n",
              "      <td>5.627826</td>\n",
              "    </tr>\n",
              "    <tr>\n",
              "      <th>1</th>\n",
              "      <td>0.0</td>\n",
              "      <td>1.595547</td>\n",
              "    </tr>\n",
              "    <tr>\n",
              "      <th>2</th>\n",
              "      <td>2.0</td>\n",
              "      <td>7.726559</td>\n",
              "    </tr>\n",
              "    <tr>\n",
              "      <th>3</th>\n",
              "      <td>5.0</td>\n",
              "      <td>5.063390</td>\n",
              "    </tr>\n",
              "    <tr>\n",
              "      <th>4</th>\n",
              "      <td>4.0</td>\n",
              "      <td>6.005237</td>\n",
              "    </tr>\n",
              "    <tr>\n",
              "      <th>5</th>\n",
              "      <td>9.0</td>\n",
              "      <td>3.420991</td>\n",
              "    </tr>\n",
              "    <tr>\n",
              "      <th>6</th>\n",
              "      <td>2.0</td>\n",
              "      <td>5.635531</td>\n",
              "    </tr>\n",
              "    <tr>\n",
              "      <th>7</th>\n",
              "      <td>1.0</td>\n",
              "      <td>4.282403</td>\n",
              "    </tr>\n",
              "    <tr>\n",
              "      <th>8</th>\n",
              "      <td>6.0</td>\n",
              "      <td>4.884737</td>\n",
              "    </tr>\n",
              "    <tr>\n",
              "      <th>9</th>\n",
              "      <td>9.0</td>\n",
              "      <td>4.098725</td>\n",
              "    </tr>\n",
              "    <tr>\n",
              "      <th>10</th>\n",
              "      <td>1.0</td>\n",
              "      <td>6.515751</td>\n",
              "    </tr>\n",
              "    <tr>\n",
              "      <th>11</th>\n",
              "      <td>9.0</td>\n",
              "      <td>4.324443</td>\n",
              "    </tr>\n",
              "    <tr>\n",
              "      <th>12</th>\n",
              "      <td>7.0</td>\n",
              "      <td>5.960658</td>\n",
              "    </tr>\n",
              "    <tr>\n",
              "      <th>13</th>\n",
              "      <td>2.0</td>\n",
              "      <td>3.765848</td>\n",
              "    </tr>\n",
              "    <tr>\n",
              "      <th>14</th>\n",
              "      <td>0.0</td>\n",
              "      <td>4.129139</td>\n",
              "    </tr>\n",
              "    <tr>\n",
              "      <th>15</th>\n",
              "      <td>3.0</td>\n",
              "      <td>6.489226</td>\n",
              "    </tr>\n",
              "    <tr>\n",
              "      <th>16</th>\n",
              "      <td>6.0</td>\n",
              "      <td>4.463845</td>\n",
              "    </tr>\n",
              "    <tr>\n",
              "      <th>17</th>\n",
              "      <td>0.0</td>\n",
              "      <td>4.307794</td>\n",
              "    </tr>\n",
              "    <tr>\n",
              "      <th>18</th>\n",
              "      <td>0.0</td>\n",
              "      <td>4.605821</td>\n",
              "    </tr>\n",
              "    <tr>\n",
              "      <th>19</th>\n",
              "      <td>0.0</td>\n",
              "      <td>3.797051</td>\n",
              "    </tr>\n",
              "  </tbody>\n",
              "</table>\n",
              "</div>"
            ],
            "text/plain": [
              "      0         1\n",
              "0   1.0  5.627826\n",
              "1   0.0  1.595547\n",
              "2   2.0  7.726559\n",
              "3   5.0  5.063390\n",
              "4   4.0  6.005237\n",
              "5   9.0  3.420991\n",
              "6   2.0  5.635531\n",
              "7   1.0  4.282403\n",
              "8   6.0  4.884737\n",
              "9   9.0  4.098725\n",
              "10  1.0  6.515751\n",
              "11  9.0  4.324443\n",
              "12  7.0  5.960658\n",
              "13  2.0  3.765848\n",
              "14  0.0  4.129139\n",
              "15  3.0  6.489226\n",
              "16  6.0  4.463845\n",
              "17  0.0  4.307794\n",
              "18  0.0  4.605821\n",
              "19  0.0  3.797051"
            ]
          },
          "metadata": {
            "tags": []
          },
          "execution_count": 126
        }
      ]
    },
    {
      "cell_type": "code",
      "metadata": {
        "id": "u9D1McFcrvT9",
        "colab_type": "code",
        "colab": {}
      },
      "source": [
        "#NOw we should check for feature importnace\n",
        "result = model.evals_result()\n",
        "epochs = len(result['validation_0']['rmse'])\n",
        "x_axis = range(0,epochs)\n"
      ],
      "execution_count": 0,
      "outputs": []
    },
    {
      "cell_type": "code",
      "metadata": {
        "id": "jcRXqkYcvqM5",
        "colab_type": "code",
        "colab": {
          "base_uri": "https://localhost:8080/",
          "height": 281
        },
        "outputId": "89920a9c-4649-46cc-aaac-2828cc357cb3"
      },
      "source": [
        "#plot\n",
        "from matplotlib import pyplot\n",
        "fig, ax = pyplot.subplots()\n",
        "ax.plot(x_axis, result['validation_0']['rmse'], label = 'Train')\n",
        "ax.plot(x_axis , result['validation_1']['rmse'],label = 'Test')\n",
        "ax.legend()\n",
        "pyplot.ylabel('RMSE');pyplot.title(\"XGBoost RMSE\")\n",
        "pyplot.show()"
      ],
      "execution_count": 128,
      "outputs": [
        {
          "output_type": "display_data",
          "data": {
            "image/png": "[encoded data removed]",
            "text/plain": [
              "<Figure size 432x288 with 1 Axes>"
            ]
          },
          "metadata": {
            "tags": []
          }
        }
      ]
    },
    {
      "cell_type": "markdown",
      "metadata": {
        "id": "byQh0Zjazk49",
        "colab_type": "text"
      },
      "source": [
        "So as we can see , the number of error increases after a certain amount of learning.\n",
        "\n",
        "XGBoost supports early stopping after a fixed number of iteratiions. In addition to specifying a metric and test dataset for evaluation each epoch, you must specify a window number that no imporovemen is observed. THis is called **early_stopping_rounds**.\n",
        "\n",
        "### Now we can train the model again from the same data."
      ]
    },
    {
      "cell_type": "code",
      "metadata": {
        "id": "KYqCkMyU0CgX",
        "colab_type": "code",
        "colab": {
          "base_uri": "https://localhost:8080/",
          "height": 145
        },
        "outputId": "02dbeae3-2053-4cb1-8eeb-845b8847e195"
      },
      "source": [
        "model.fit(data, label,early_stopping_rounds=10, eval_metric ='rmse',eval_set = eval_set,verbose = False  )"
      ],
      "execution_count": 130,
      "outputs": [
        {
          "output_type": "execute_result",
          "data": {
            "text/plain": [
              "XGBRegressor(base_score=0.5, booster='gbtree', colsample_bylevel=1,\n",
              "             colsample_bynode=1, colsample_bytree=1, gamma=0,\n",
              "             importance_type='gain', learning_rate=0.1, max_delta_step=0,\n",
              "             max_depth=3, min_child_weight=1, missing=None, n_estimators=100,\n",
              "             n_jobs=1, nthread=None, objective='reg:squarederror',\n",
              "             random_state=0, reg_alpha=0, reg_lambda=1, scale_pos_weight=1,\n",
              "             seed=None, silent=None, subsample=1, verbosity=1)"
            ]
          },
          "metadata": {
            "tags": []
          },
          "execution_count": 130
        }
      ]
    },
    {
      "cell_type": "code",
      "metadata": {
        "id": "JSgDRbj60QEI",
        "colab_type": "code",
        "colab": {
          "base_uri": "https://localhost:8080/",
          "height": 90
        },
        "outputId": "8dabd1ac-20b1-4dcc-ddfb-faf6890ea47e"
      },
      "source": [
        "ypred = model.predict(data)\n",
        "mse = mean_squared_error(label,ypred)\n",
        "print(\"Train MSE: %.6f\" % mse)\n",
        "print(\" Test RMSE: %.6f\" % np.sqrt(mse)) \n",
        "\n",
        "ypred1 = model.predict(test_data)\n",
        "mse1 = mean_squared_error(test_label,ypred1)\n",
        "print(\"Test MSE: %.6f\" % mse1)\n",
        "print(\"Test RMSE: %.6f\" % np.sqrt(mse1)) "
      ],
      "execution_count": 131,
      "outputs": [
        {
          "output_type": "stream",
          "text": [
            "Train MSE: 7.987217\n",
            " Test RMSE: 2.826166\n",
            "Test MSE: 10.612442\n",
            "Test RMSE: 3.257674\n"
          ],
          "name": "stdout"
        }
      ]
    }
  ]
}